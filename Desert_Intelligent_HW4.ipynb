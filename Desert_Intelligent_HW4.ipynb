{
 "cells": [
  {
   "cell_type": "markdown",
   "id": "629e1a51",
   "metadata": {},
   "source": [
    "<div style=\"font-size: 14pt;\">Prof. Krzysztof Rybinski</div><br/><br/>\n",
    "<div style=\"font-size: 22pt;\"><b>Artificial Intelligence course</b></div><br/><br/>\n",
    "<div style=\"font-size: 18pt;\">Homework 4 </div><br/>\n",
    "<div style=\"font-size: 18pt;\">- Train convolutional neural network on lfw people dataset</div><br/>\n",
    "<div style=\"font-size: 18pt;\">- Try different hyperparameters (no of layers, no of neurons, number of filters, filter size etc.)</div><br/>\n",
    "<div style=\"font-size: 18pt;\">- Use dropout regularization after Maxpooling and/or after Dense layer and check if it helps</div><br/>\n",
    "<div style=\"font-size: 18pt;\">- Use callback - early stopping </div><br/><br/>\n",
    "<div style=\"font-size: 18pt;\">- Max 2 points. Best accuracy gets 0.2 point bonus</div><br/>\n"
   ]
  },
  {
   "cell_type": "code",
   "execution_count": 1,
   "id": "6214753e",
   "metadata": {},
   "outputs": [],
   "source": [
    "import keras\n",
    "\n",
    "import numpy as np\n",
    "from matplotlib import pyplot as plt\n",
    "import os"
   ]
  },
  {
   "cell_type": "code",
   "execution_count": 2,
   "id": "966f4710",
   "metadata": {},
   "outputs": [
    {
     "name": "stdout",
     "output_type": "stream",
     "text": [
      "1288 50 37\n"
     ]
    }
   ],
   "source": [
    "# Download dataset\n",
    "from sklearn import datasets\n",
    "lfw_people = datasets.fetch_lfw_people(min_faces_per_person=70, resize=0.4)\n",
    "\n",
    "n_samples, h, w = lfw_people.images.shape\n",
    "print(n_samples, h, w)"
   ]
  },
  {
   "cell_type": "code",
   "execution_count": 3,
   "id": "0921fecb",
   "metadata": {},
   "outputs": [
    {
     "data": {
      "image/png": "[encoded data removed]",
      "text/plain": [
       "<Figure size 640x480 with 1 Axes>"
      ]
     },
     "metadata": {},
     "output_type": "display_data"
    },
    {
     "name": "stdout",
     "output_type": "stream",
     "text": [
      "3 George W Bush\n"
     ]
    }
   ],
   "source": [
    "plt.imshow( lfw_people.images[6] , cmap='gray')\n",
    "plt.show()\n",
    "print( lfw_people.target[6] , lfw_people.target_names[lfw_people.target[6]] )"
   ]
  },
  {
   "cell_type": "code",
   "execution_count": 4,
   "id": "b740d7fe",
   "metadata": {},
   "outputs": [],
   "source": [
    "X = lfw_people.data\n",
    "y = lfw_people.target\n",
    "\n",
    "n_features = X.shape[1]\n",
    "target_names = lfw_people.target_names"
   ]
  },
  {
   "cell_type": "code",
   "execution_count": 5,
   "id": "e107c5da",
   "metadata": {},
   "outputs": [
    {
     "data": {
      "text/plain": [
       "array([[0., 0., 0., ..., 0., 1., 0.],\n",
       "       [0., 0., 0., ..., 0., 0., 1.],\n",
       "       [0., 0., 0., ..., 0., 0., 0.],\n",
       "       ...,\n",
       "       [0., 0., 0., ..., 0., 1., 0.],\n",
       "       [0., 0., 0., ..., 0., 0., 0.],\n",
       "       [0., 0., 0., ..., 0., 1., 0.]], dtype=float32)"
      ]
     },
     "execution_count": 5,
     "metadata": {},
     "output_type": "execute_result"
    }
   ],
   "source": [
    "y = keras.utils.to_categorical(y)\n",
    "y"
   ]
  },
  {
   "cell_type": "code",
   "execution_count": 6,
   "id": "0d207113",
   "metadata": {},
   "outputs": [],
   "source": [
    "n_classes = y.shape[1]"
   ]
  },
  {
   "cell_type": "code",
   "execution_count": 7,
   "id": "6522c222",
   "metadata": {},
   "outputs": [
    {
     "data": {
      "text/plain": [
       "((966, 1850), (322, 1850), (966, 7), (322, 7))"
      ]
     },
     "execution_count": 7,
     "metadata": {},
     "output_type": "execute_result"
    }
   ],
   "source": [
    "from sklearn.model_selection import train_test_split\n",
    "X_train, X_test, y_train, y_test = train_test_split(X, y, test_size=0.25, random_state = 1234)\n",
    "X_train = X_train / 255\n",
    "X_test = X_test / 255\n",
    "(X_train.shape, X_test.shape, y_train.shape, y_test.shape)"
   ]
  },
  {
   "cell_type": "code",
   "execution_count": 8,
   "id": "23f6e854",
   "metadata": {},
   "outputs": [],
   "source": [
    "from keras.layers import Conv2D, MaxPooling2D, Activation, Dropout, Flatten, Dense, Reshape\n",
    "from keras.models import Sequential\n"
   ]
  },
  {
   "cell_type": "code",
   "execution_count": 9,
   "id": "116d8d5d",
   "metadata": {},
   "outputs": [],
   "source": [
    "#Use callbacks\n",
    "from keras.callbacks import EarlyStopping\n",
    "early_stopping = EarlyStopping(patience=10, monitor=\"val_loss\", verbose=1)\n"
   ]
  },
  {
   "cell_type": "code",
   "execution_count": 10,
   "id": "dda7f535",
   "metadata": {},
   "outputs": [],
   "source": [
    "#define the model, do not forget to reshape the input\n",
    "model = Sequential()\n",
    "model.add(Reshape((50,37,1), input_shape=(1850,)))\n",
    "model.add(Conv2D(filters=32, kernel_size=(3,3), padding='same', activation='relu'), )\n",
    "model.add(MaxPooling2D(pool_size=(2,2)))\n",
    "\n",
    "model.add(Flatten())\n",
    "model.add(Dense(100, activation='relu'))\n",
    "model.add(Dropout(0.5) )\n",
    "model.add(Dense(7, activation='softmax'))"
   ]
  },
  {
   "cell_type": "code",
   "execution_count": 11,
   "id": "3e5ed18d",
   "metadata": {},
   "outputs": [
    {
     "name": "stdout",
     "output_type": "stream",
     "text": [
      "Model: \"sequential\"\n",
      "_________________________________________________________________\n",
      " Layer (type)                Output Shape              Param #   \n",
      "=================================================================\n",
      " reshape (Reshape)           (None, 50, 37, 1)         0         \n",
      "                                                                 \n",
      " conv2d (Conv2D)             (None, 50, 37, 32)        320       \n",
      "                                                                 \n",
      " max_pooling2d (MaxPooling2D  (None, 25, 18, 32)       0         \n",
      " )                                                               \n",
      "                                                                 \n",
      " flatten (Flatten)           (None, 14400)             0         \n",
      "                                                                 \n",
      " dense (Dense)               (None, 100)               1440100   \n",
      "                                                                 \n",
      " dropout (Dropout)           (None, 100)               0         \n",
      "                                                                 \n",
      " dense_1 (Dense)             (None, 7)                 707       \n",
      "                                                                 \n",
      "=================================================================\n",
      "Total params: 1,441,127\n",
      "Trainable params: 1,441,127\n",
      "Non-trainable params: 0\n",
      "_________________________________________________________________\n",
      "None\n"
     ]
    }
   ],
   "source": [
    "print(model.summary())"
   ]
  },
  {
   "cell_type": "code",
   "execution_count": 18,
   "id": "4a6d30b1",
   "metadata": {},
   "outputs": [],
   "source": [
    "#compile the model\n",
    "model.compile(loss='categorical_crossentropy',)\n"
   ]
  },
  {
   "cell_type": "code",
   "execution_count": 19,
   "id": "07e2c30b",
   "metadata": {},
   "outputs": [
    {
     "name": "stdout",
     "output_type": "stream",
     "text": [
      "Epoch 1/75\n",
      "49/49 [==============================] - 3s 40ms/step - loss: 1.9354 - val_loss: 1.6778\n",
      "Epoch 2/75\n",
      "49/49 [==============================] - 1s 21ms/step - loss: 1.7635 - val_loss: 1.6548\n",
      "Epoch 3/75\n",
      "49/49 [==============================] - 1s 18ms/step - loss: 1.7195 - val_loss: 1.6629\n",
      "Epoch 4/75\n",
      "49/49 [==============================] - 1s 25ms/step - loss: 1.6772 - val_loss: 1.5508\n",
      "Epoch 5/75\n",
      "49/49 [==============================] - 2s 35ms/step - loss: 1.6008 - val_loss: 1.5262\n",
      "Epoch 6/75\n",
      "49/49 [==============================] - 2s 34ms/step - loss: 1.4721 - val_loss: 1.3662\n",
      "Epoch 7/75\n",
      "49/49 [==============================] - 2s 34ms/step - loss: 1.3803 - val_loss: 1.2874\n",
      "Epoch 8/75\n",
      "49/49 [==============================] - 2s 36ms/step - loss: 1.2261 - val_loss: 1.2339\n",
      "Epoch 9/75\n",
      "49/49 [==============================] - 2s 34ms/step - loss: 1.1175 - val_loss: 1.1005\n",
      "Epoch 10/75\n",
      "49/49 [==============================] - 2s 38ms/step - loss: 1.0126 - val_loss: 1.0409\n",
      "Epoch 11/75\n",
      "49/49 [==============================] - 2s 33ms/step - loss: 0.9056 - val_loss: 0.9467\n",
      "Epoch 12/75\n",
      "49/49 [==============================] - 2s 34ms/step - loss: 0.7900 - val_loss: 0.8992\n",
      "Epoch 13/75\n",
      "49/49 [==============================] - 2s 36ms/step - loss: 0.7406 - val_loss: 0.9362\n",
      "Epoch 14/75\n",
      "49/49 [==============================] - 2s 41ms/step - loss: 0.6592 - val_loss: 0.9496\n",
      "Epoch 15/75\n",
      "49/49 [==============================] - 2s 35ms/step - loss: 0.5763 - val_loss: 0.7580\n",
      "Epoch 16/75\n",
      "49/49 [==============================] - 2s 31ms/step - loss: 0.5823 - val_loss: 0.7441\n",
      "Epoch 17/75\n",
      "49/49 [==============================] - 2s 37ms/step - loss: 0.5221 - val_loss: 0.6545\n",
      "Epoch 18/75\n",
      "49/49 [==============================] - 2s 39ms/step - loss: 0.4389 - val_loss: 0.6822\n",
      "Epoch 19/75\n",
      "49/49 [==============================] - 2s 32ms/step - loss: 0.3958 - val_loss: 0.7293\n",
      "Epoch 20/75\n",
      "49/49 [==============================] - 1s 29ms/step - loss: 0.3588 - val_loss: 0.6662\n",
      "Epoch 21/75\n",
      "49/49 [==============================] - 2s 37ms/step - loss: 0.3547 - val_loss: 0.5944\n",
      "Epoch 22/75\n",
      "49/49 [==============================] - 2s 34ms/step - loss: 0.3112 - val_loss: 0.6810\n",
      "Epoch 23/75\n",
      "49/49 [==============================] - 2s 42ms/step - loss: 0.3180 - val_loss: 0.6127\n",
      "Epoch 24/75\n",
      "49/49 [==============================] - 2s 36ms/step - loss: 0.2533 - val_loss: 0.5891\n",
      "Epoch 25/75\n",
      "49/49 [==============================] - 2s 39ms/step - loss: 0.2737 - val_loss: 0.5588\n",
      "Epoch 26/75\n",
      "49/49 [==============================] - 2s 43ms/step - loss: 0.2565 - val_loss: 0.7512\n",
      "Epoch 27/75\n",
      "49/49 [==============================] - 2s 32ms/step - loss: 0.2196 - val_loss: 0.6311\n",
      "Epoch 28/75\n",
      "49/49 [==============================] - 2s 32ms/step - loss: 0.2042 - val_loss: 0.5387\n",
      "Epoch 29/75\n",
      "49/49 [==============================] - 1s 30ms/step - loss: 0.1859 - val_loss: 0.5527\n",
      "Epoch 30/75\n",
      "49/49 [==============================] - 2s 35ms/step - loss: 0.1788 - val_loss: 0.6068\n",
      "Epoch 31/75\n",
      "49/49 [==============================] - 1s 28ms/step - loss: 0.1568 - val_loss: 0.5818\n",
      "Epoch 32/75\n",
      "49/49 [==============================] - 2s 42ms/step - loss: 0.1503 - val_loss: 0.5643\n",
      "Epoch 33/75\n",
      "49/49 [==============================] - 2s 30ms/step - loss: 0.1230 - val_loss: 0.6839\n",
      "Epoch 34/75\n",
      "49/49 [==============================] - 2s 34ms/step - loss: 0.1411 - val_loss: 0.6086\n",
      "Epoch 35/75\n",
      "49/49 [==============================] - 2s 32ms/step - loss: 0.1316 - val_loss: 0.7028\n",
      "Epoch 36/75\n",
      "49/49 [==============================] - 2s 38ms/step - loss: 0.1666 - val_loss: 0.5908\n",
      "Epoch 37/75\n",
      "49/49 [==============================] - 2s 37ms/step - loss: 0.0772 - val_loss: 0.6613\n",
      "Epoch 38/75\n",
      "49/49 [==============================] - 2s 36ms/step - loss: 0.1341 - val_loss: 0.6217\n",
      "Epoch 38: early stopping\n"
     ]
    },
    {
     "data": {
      "text/plain": [
       "<keras.callbacks.History at 0x19c3e9d7fa0>"
      ]
     },
     "execution_count": 19,
     "metadata": {},
     "output_type": "execute_result"
    }
   ],
   "source": [
    "#train the model, use callbacks\n",
    "model.fit(X_train, y_train, validation_split=0.5, epochs=75, batch_size=10, callbacks=[early_stopping])"
   ]
  },
  {
   "cell_type": "code",
   "execution_count": 20,
   "id": "8086e822",
   "metadata": {},
   "outputs": [
    {
     "name": "stdout",
     "output_type": "stream",
     "text": [
      "11/11 [==============================] - 0s 5ms/step - loss: 0.8167\n"
     ]
    },
    {
     "data": {
      "text/plain": [
       "0.8166539669036865"
      ]
     },
     "execution_count": 20,
     "metadata": {},
     "output_type": "execute_result"
    }
   ],
   "source": [
    "#evaluate the model\n",
    "model.evaluate(X_test, y_test)"
   ]
  },
  {
   "cell_type": "code",
   "execution_count": null,
   "id": "db5896e3",
   "metadata": {},
   "outputs": [],
   "source": [
    "#Add more convolutional/maxpooling layers\n",
    "#Experiment with the number of neurons, filer size, number of filters etc.\n",
    "#Add dropout layer after first Dense layer\n",
    "#Try dropout layer after maxpooling\n",
    "#Try different hyperparameters"
   ]
  },
  {
   "cell_type": "code",
   "execution_count": null,
   "id": "d73083b5",
   "metadata": {},
   "outputs": [],
   "source": []
  },
  {
   "cell_type": "code",
   "execution_count": null,
   "id": "6e3921b6",
   "metadata": {},
   "outputs": [],
   "source": []
  }
 ],
 "metadata": {
  "kernelspec": {
   "display_name": "Python 3 (ipykernel)",
   "language": "python",
   "name": "python3"
  },
  "language_info": {
   "codemirror_mode": {
    "name": "ipython",
    "version": 3
   },
   "file_extension": ".py",
   "mimetype": "text/x-python",
   "name": "python",
   "nbconvert_exporter": "python",
   "pygments_lexer": "ipython3",
   "version": "3.9.13"
  }
 },
 "nbformat": 4,
 "nbformat_minor": 5
}
